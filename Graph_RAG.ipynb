{
 "cells": [
  {
   "cell_type": "code",
   "execution_count": 1,
   "id": "b8b6f239",
   "metadata": {},
   "outputs": [
    {
     "name": "stderr",
     "output_type": "stream",
     "text": [
      "c:\\Users\\thoma\\AppData\\Local\\Programs\\Python\\Python313\\Lib\\site-packages\\tqdm\\auto.py:21: TqdmWarning: IProgress not found. Please update jupyter and ipywidgets. See https://ipywidgets.readthedocs.io/en/stable/user_install.html\n",
      "  from .autonotebook import tqdm as notebook_tqdm\n"
     ]
    }
   ],
   "source": [
    "import os\n",
    "import faiss\n",
    "import pdfplumber\n",
    "import re\n",
    "import networkx as nx\n",
    "import matplotlib.pyplot as plt\n",
    "import random\n",
    "from openai import OpenAI\n",
    "import time\n",
    "import pandas as pd\n",
    "import numpy as np\n",
    "from sentence_transformers import SentenceTransformer\n",
    "from IPython.display import display, Markdown\n",
    "from sklearn.metrics.pairwise import cosine_similarity, linear_kernel\n"
   ]
  },
  {
   "cell_type": "code",
   "execution_count": 2,
   "id": "7b2eb969",
   "metadata": {},
   "outputs": [],
   "source": [
    "client = OpenAI(api_key=os.environ[\"OPENAI_API_KEY\"])"
   ]
  },
  {
   "cell_type": "code",
   "execution_count": 28,
   "id": "401a59ae",
   "metadata": {},
   "outputs": [],
   "source": [
    "model = SentenceTransformer('all-MiniLM-L6-v2')"
   ]
  },
  {
   "cell_type": "code",
   "execution_count": 5,
   "id": "b61b60c7",
   "metadata": {},
   "outputs": [
    {
     "name": "stdout",
     "output_type": "stream",
     "text": [
      "1\n"
     ]
    }
   ],
   "source": [
    "def extract_text_from_pdfs(folder_path):\n",
    "    documents = []\n",
    "    for filename in os.listdir(folder_path):\n",
    "        if filename.endswith(\".pdf\"):\n",
    "            path = os.path.join(folder_path, filename)\n",
    "            text = \"\"\n",
    "            with pdfplumber.open(path) as pdf:\n",
    "                for page in pdf.pages:\n",
    "                    text += page.extract_text() + \"\\n\"\n",
    "            documents.append((filename, text))\n",
    "    return documents\n",
    "\n",
    "papers = extract_text_from_pdfs(\"./codecivil\")\n",
    "print(len(papers))"
   ]
  },
  {
   "cell_type": "code",
   "execution_count": 6,
   "id": "45177ecb",
   "metadata": {},
   "outputs": [],
   "source": [
    "def chunk_text(text, chunk_size=500, overlap=50):\n",
    "    words = text.split()\n",
    "    chunks = []\n",
    "    for i in range(0, len(words), chunk_size - overlap):\n",
    "        chunk = \" \".join(words[i:i + chunk_size])\n",
    "        chunks.append(chunk)\n",
    "    return chunks\n",
    "\n",
    "texts = []\n",
    "metadata = []\n",
    "\n",
    "for filename, content in papers:\n",
    "    chunks = chunk_text(content)\n",
    "    for i, chunk in enumerate(chunks):\n",
    "        texts.append(chunk)\n",
    "        metadata.append({\"source\": filename, \"chunk\": i})\n"
   ]
  },
  {
   "cell_type": "code",
   "execution_count": 7,
   "id": "1f275f9f",
   "metadata": {},
   "outputs": [
    {
     "name": "stdout",
     "output_type": "stream",
     "text": [
      "451\n",
      "d'exercer les fonctions de curateur ou de tuteur pour le cas où elle serait placée en curatelle ou en tutelle s'impose au juge, sauf si la personne désignée refuse la mission ou est dans l'impossibilité de l'exercer ou si l'intérêt de la personne protégée commande de l'écarter. En cas de difficulté, le juge statue. Il en est de même lorsque les parents ou le dernier vivant des père et mère, ne faisant pas l'objet d'une mesure de curatelle ou de tutelle, qui exercent l'autorité parentale sur leur enfant mineur ou assument la charge matérielle et affective de leur enfant majeur désignent une ou plusieurs personnes chargées d'exercer les fonctions de curateur ou de tuteur à compter du jour où eux-mêmes décéderont ou ne pourront plus continuer à prendre soin de l'intéressé. Article 449 A défaut de désignation faite en application de l'article 448, le juge nomme, comme curateur ou tuteur, le conjoint de la personne protégée, le partenaire avec qui elle a conclu un pacte civil de solidarité ou son concubin, à moins que la vie commune ait cessé entre eux ou qu'une autre cause empêche de lui confier la mesure. A défaut de nomination faite en application de l'alinéa précédent et sous la dernière réserve qui y est mentionnée, le juge désigne un parent, un allié ou une personne résidant avec le majeur protégé ou entretenant avec lui des liens étroits et stables. Le juge prend en considération les sentiments exprimés par celui-ci, ses relations habituelles, l'intérêt porté à son égard et les recommandations éventuelles de ses parents et alliés ainsi que de son entourage. Article 450 Lorsqu'aucun membre de la famille ou aucun proche ne peut assumer la curatelle ou la tutelle, le juge désigne un mandataire judiciaire à la protection des majeurs inscrit sur la liste prévue à l'article L. 471-2 du code de l'action sociale et des familles. Ce mandataire ne peut refuser d'accomplir les actes urgents que commande l'intérêt de la personne protégée, notamment les actes conservatoires indispensables à la préservation de son patrimoine. Code civil - Dernière modification le 14 septembre 2024 - Document généré le 10 février 2025 Article 451 Si l'intérêt de la personne hébergée ou soignée dans un établissement de santé ou dans un établissement social ou médico-social le justifie, le juge peut désigner, en qualité de curateur ou de tuteur, une personne ou un service préposé de l'établissement inscrit sur la liste des mandataires judiciaires à la protection des majeurs au titre du 1° ou du 3° de l'article L. 471-2 du code de l'action sociale et des familles, qui exerce ses fonctions dans les conditions fixées par décret en Conseil d'Etat. La mission confiée au mandataire s'étend à la protection de la personne, sauf décision contraire du juge. Article 452 La curatelle et la tutelle sont des charges personnelles. Le curateur et le tuteur peuvent toutefois s'adjoindre, sous leur propre responsabilité, le concours de tiers majeurs ne faisant pas l'objet d'une mesure de protection juridique pour l'accomplissement de certains\n"
     ]
    }
   ],
   "source": [
    "print(len(chunks))\n",
    "print(chunks[137])"
   ]
  },
  {
   "cell_type": "code",
   "execution_count": 8,
   "id": "68086b48",
   "metadata": {},
   "outputs": [],
   "source": [
    "def get_embedding(text):\n",
    "    return model.encode(text)\n",
    "embeddings = np.array([get_embedding(t) for t in texts]).astype(\"float32\")"
   ]
  },
  {
   "cell_type": "code",
   "execution_count": 9,
   "id": "ae0a4658",
   "metadata": {},
   "outputs": [
    {
     "name": "stdout",
     "output_type": "stream",
     "text": [
      "FAISS index crée avec 451 chunks.\n"
     ]
    }
   ],
   "source": [
    "index = faiss.IndexFlatL2(embeddings.shape[1])\n",
    "index.add(embeddings)\n",
    "print(f\"FAISS index crée avec {index.ntotal} chunks.\")"
   ]
  },
  {
   "cell_type": "code",
   "execution_count": 10,
   "id": "153e86d1",
   "metadata": {},
   "outputs": [],
   "source": [
    "def search(query, k=5):\n",
    "    query_embed = np.array(get_embedding(query)).astype(\"float32\")\n",
    "    D, I = index.search(np.array([query_embed]), k)\n",
    "    return [(texts[i], metadata[i]) for i in I[0]]"
   ]
  },
  {
   "cell_type": "code",
   "execution_count": 109,
   "id": "3bb777e9",
   "metadata": {},
   "outputs": [
    {
     "data": {
      "text/markdown": [
       "**Question:** Est-ce que la vente parfaite implique que celui qui s’est déjà engagé ne peut vendre au plus offrant ?"
      ],
      "text/plain": [
       "<IPython.core.display.Markdown object>"
      ]
     },
     "metadata": {},
     "output_type": "display_data"
    },
    {
     "data": {
      "text/markdown": [
       "**Réponse :**\n",
       "La vente parfaite est un concept juridique qui signifie que l'acheteur et le vendeur sont définitivement engagés l'un envers l'autre. En principe, une fois la vente parfaite réalisée, le vendeur ne peut pas vendre le bien à une autre personne, sauf accord contraire ou si une clause de réserve de propriété est prévue dans le contrat de vente. Cela signifie que, en principe, celui qui s'est déjà engagé dans une vente parfaite ne peut pas vendre au plus offrant."
      ],
      "text/plain": [
       "<IPython.core.display.Markdown object>"
      ]
     },
     "metadata": {},
     "output_type": "display_data"
    },
    {
     "data": {
      "text/markdown": [
       "**Sources :**"
      ],
      "text/plain": [
       "<IPython.core.display.Markdown object>"
      ]
     },
     "metadata": {},
     "output_type": "display_data"
    },
    {
     "data": {
      "text/markdown": [
       "- `codecivil.pdf la dette garantie, une somme égale à la différence entre cette valeur et le montant de la dette, sous réserve du paiement préalable des dettes nées de la conservation ou de la gestion du patrimoine fiduciaire. Sous la même réserve, si le fiduciaire procède à la vente du bien ou du droit cédé en application du contrat de fiducie, il restitue au constituant la part du produit de cette vente excédant, le cas échéant, la valeur de la dette garantie. Article 2372-5 La propriété cédée en application de l'article 2372-1 peut être ultérieurement affectée à la garantie de dettes autres que celles mentionnées par l'acte constitutif pourvu que celui-ci le prévoie expressément. Le constituant peut l'offrir en garantie, non seulement au créancier originaire, mais aussi à un nouveau créancier, encore que le premier n'ait pas été payé. Lorsque le constituant est une personne physique, le patrimoine fiduciaire ne peut alors être affecté en garantie d'une nouvelle dette que dans la limite de sa valeur estimée au jour de la recharge. A peine de nullité, la convention de rechargement établie selon les dispositions de l'article 2372-2 est enregistrée sous la forme prévue à l'article 2019. La date d'enregistrement détermine, entre eux, le rang des créanciers. Les dispositions du présent article sont d'ordre public et toute clause contraire à celles-ci est réputée non écrite. Sous-section 2 : De la cession de créance à titre de garantie Article 2373 La propriété d'une créance peut être cédée à titre de garantie d'une obligation par l'effet d'un contrat conclu en application des articles 1321 à 1326. Article 2373-1 Les créances garanties et les créances cédées sont désignées dans l'acte. Si elles sont futures, l'acte doit permettre leur individualisation ou contenir des éléments permettant celle- ci tels que l'indication du débiteur, le lieu de paiement, le montant des créances ou leur évaluation et, s'il y a lieu, leur échéance. Article 2373-2 Les sommes payées au cessionnaire au titre de la créance cédée s'imputent sur la créance garantie lorsqu'elle est échue. Code civil - Dernière modification le 14 septembre 2024 - Document généré le 10 février 2025 Dans le cas contraire, le cessionnaire les conserve dans les conditions prévues aux articles 2374-3 à 2374-6. Article 2373-3 Lorsque la créance garantie est intégralement payée avant que la créance cédée ne le soit, le cédant recouvre de plein droit la propriété de celle-ci. Sous-section 3 : De la cession de somme d'argent à titre de garantie Article 2374 La propriété d'une somme d'argent, soit en euro soit en une autre monnaie, peut être cédée à titre de garantie d'une ou plusieurs créances, présentes ou futures. Article 2374-1 A peine de nullité, la cession doit être conclue par écrit. Cet écrit comporte la désignation des créances garanties. Si elles sont futures, l'acte doit permettre leur individualisation ou contenir des éléments permettant celle-ci tels que l'indication du débiteur, le lieu de paiement, le montant des créances ou leur évaluation et, s'il y a lieu, leur échéance. Article 2374-2 La cession est [chunk 420]`"
      ],
      "text/plain": [
       "<IPython.core.display.Markdown object>"
      ]
     },
     "metadata": {},
     "output_type": "display_data"
    },
    {
     "data": {
      "text/markdown": [
       "- `codecivil.pdf lotis ou à lotir, son acceptation et la convention qui en résultera s'établiront par le paiement d'un acompte sur le prix, quel que soit le nom donné à cet acompte, et par la prise de possession du terrain. La date de la convention, même régularisée ultérieurement, sera celle du versement du premier acompte. Article 1589-1 Est frappé de nullité tout engagement unilatéral souscrit en vue de l'acquisition d'un bien ou d'un droit immobilier pour lequel il est exigé ou reçu de celui qui s'engage un versement, quelle qu'en soit la cause et la forme. Article 1589-2 Est nulle et de nul effet toute promesse unilatérale de vente afférente à un immeuble, à un droit immobilier, à un fonds de commerce, à un droit à un bail portant sur tout ou partie d'un immeuble ou aux titres des sociétés visées aux articles 728 et 1655 ter du code général des impôts, si elle n'est pas constatée par un acte authentique ou par un acte sous seing privé enregistré dans le délai de dix jours à compter de la date de son Code civil - Dernière modification le 14 septembre 2024 - Document généré le 10 février 2025 acceptation par le bénéficiaire. Il en est de même de toute cession portant sur lesdites promesses qui n'a pas fait l'objet d'un acte authentique ou d'un acte sous seing privé enregistré dans les dix jours de sa date. Article 1590 Si la promesse de vendre a été faite avec des arrhes chacun des contractants est maître de s'en départir, Celui qui les a données, en les perdant, Et celui qui les a reçues, en restituant le double. Article 1591 Le prix de la vente doit être déterminé et désigné par les parties. Article 1592 Il peut cependant être laissé à l'estimation d'un tiers ; si le tiers ne veut ou ne peut faire l'estimation, il n'y a point de vente, sauf estimation par un autre tiers. Article 1593 Les frais d'actes et autres accessoires à la vente sont à la charge de l'acheteur. Chapitre II : Qui peut acheter ou vendre. Article 1594 Tous ceux auxquels la loi ne l'interdit pas peuvent acheter ou vendre. Article 1596 Code civil - Dernière modification le 14 septembre 2024 - Document généré le 10 février 2025 Ne peuvent se rendre adjudicataires, sous peine de nullité, ni par eux-mêmes, ni par personnes interposées : Les tuteurs, des biens de ceux dont ils ont la tutelle ; Les mandataires, des biens qu'ils sont chargés de vendre ; Les administrateurs, de ceux des communes ou des établissements publics confiés à leurs soins ; Les officiers publics, des biens nationaux dont les ventes se font par leur ministère ; Les fiduciaires, des biens ou droits composant le patrimoine fiduciaire. Article 1597 Les juges, leurs suppléants, les magistrats remplissant le ministère public, les greffiers, huissiers, avocats, défenseurs officieux et notaires, ne peuvent devenir cessionnaires des procès, droits et actions litigieux qui sont de la compétence du tribunal dans le ressort duquel ils [chunk 335]`"
      ],
      "text/plain": [
       "<IPython.core.display.Markdown object>"
      ]
     },
     "metadata": {},
     "output_type": "display_data"
    },
    {
     "data": {
      "text/markdown": [
       "- `codecivil.pdf sont ouverts au nom de la personne protégée un relevé annuel de ceux-ci, sans que puisse lui être opposé le secret professionnel ou le secret bancaire. Le tuteur est tenu d'assurer la confidentialité du compte de gestion. Toutefois, une copie du compte et des pièces justificatives est remise chaque année par le tuteur à la personne protégée lorsqu'elle est âgée d'au moins seize ans, ainsi qu'au subrogé tuteur s'il a été nommé et, si le tuteur l'estime utile, aux autres personnes chargées de la protection de l'intéressé. En outre, le juge peut, après avoir entendu la personne protégée et recueilli son accord, si elle a atteint l'âge précité et si son état le permet, autoriser le conjoint, le partenaire du pacte civil de solidarité qu'elle a conclu, un parent, un allié de celle-ci ou un de ses proches, s'ils justifient d'un intérêt légitime, à se faire communiquer à leur charge par le tuteur une copie du compte et des pièces justificatives ou une partie de ces documents. Article 511 Pour les mineurs sous tutelle, le tuteur soumet au directeur des services de greffe judiciaires du tribunal judiciaire un compte de gestion annuel, accompagné des pièces justificatives, en vue de sa vérification. Le subrogé tuteur vérifie le compte avant de le transmettre avec ses observations au directeur des services de greffe judiciaires. Le directeur des services de greffe judiciaires peut être assisté dans sa mission de contrôle des comptes dans les conditions fixées par le code de procédure civile. Le juge peut décider que la mission de vérification et d'approbation des comptes dévolue au directeur des services de greffe judiciaires sera exercée par le subrogé tuteur. Si les ressources du mineur le permettent et si l'importance et la composition de son patrimoine le justifient, le juge peut décider que la mission de vérification et d'approbation sera exercée, aux frais du mineur et selon les modalités qu'il fixe, par un professionnel qualifié. Article 512 Code civil - Dernière modification le 14 septembre 2024 - Document généré le 10 février 2025 Pour les majeurs protégés, les comptes de gestion sont vérifiés et approuvés annuellement par le subrogé tuteur lorsqu'il en a été nommé un ou par le conseil de famille lorsqu'il est fait application de l'article 457. Lorsque plusieurs personnes ont été désignées dans les conditions de l'article 447 pour la gestion patrimoniale, les comptes annuels de gestion doivent être signés par chacune d'elles, ce qui vaut approbation. En cas de difficulté, le juge statue sur la conformité des comptes à la requête de l'une des personnes chargées de la mesure de protection. Par dérogation au premier alinéa du présent article, lorsque l'importance et la composition du patrimoine de la personne protégée le justifient, le juge désigne, dès réception de l'inventaire du budget prévisionnel, un professionnel qualifié chargé de la vérification et de l'approbation des comptes dans des conditions fixées par décret en Conseil d'Etat. Le juge fixe dans sa décision les modalités selon lesquelles le tuteur soumet à ce professionnel le compte [chunk 158]`"
      ],
      "text/plain": [
       "<IPython.core.display.Markdown object>"
      ]
     },
     "metadata": {},
     "output_type": "display_data"
    },
    {
     "data": {
      "text/markdown": [
       "- `codecivil.pdf en son nom par le promoteur en vertu des pouvoirs que celui-ci tient de la loi ou de la convention. Article 1831-3 Si, avant l'achèvement du programme, le maître de l'ouvrage cède les droits qu'il a sur celui-ci, le cessionnaire lui est substitué de plein droit, activement et passivement, dans l'ensemble du contrat. Le cédant est garant de l'exécution des obligations mises à la charge du maître de l'ouvrage par le contrat cédé. Les mandats spéciaux donnés au promoteur se poursuivent entre celui-ci et le cessionnaire. Code civil - Dernière modification le 14 septembre 2024 - Document généré le 10 février 2025 Le promoteur ne peut se substituer un tiers dans l'exécution des obligations qu'il a contractées envers le maître de l'ouvrage sans l'accord de celui-ci. Le contrat de promotion immobilière n'est opposable aux tiers qu'à partir de la date de sa mention au fichier immobilier. Article 1831-4 La mission du promoteur ne s'achève à la livraison de l'ouvrage que si les comptes de construction ont été définitivement arrêtés entre le maître de l'ouvrage et le promoteur, le tout sans préjudicier aux actions en responsabilité qui peuvent appartenir au maître de l'ouvrage contre le promoteur. Article 1831-5 Le règlement judiciaire ou la liquidation des biens n'entraîne pas de plein droit la résiliation du contrat de promotion immobilière. Toute stipulation contraire est réputée non écrite. Code civil - Dernière modification le 14 septembre 2024 - Document généré le 10 février 2025 Livre III : Des différentes manières dont on acquiert la propriété Titre IX : De la société Chapitre Ier : Dispositions générales. Article 1832 La société est instituée par deux ou plusieurs personnes qui conviennent par un contrat d'affecter à une entreprise commune des biens ou leur industrie en vue de partager le bénéfice ou de profiter de l'économie qui pourra en résulter. Elle peut être instituée, dans les cas prévus par la loi, par l'acte de volonté d'une seule personne. Les associés s'engagent à contribuer aux pertes. Article 1832-1 Même s'ils n'emploient que des biens de communauté pour les apports à une société ou pour l'acquisition de parts sociales, deux époux seuls ou avec d'autres personnes peuvent être associés dans une même société et participer ensemble ou non à la gestion sociale. Les avantages et libéralités résultant d'un contrat de société entre époux ne peuvent être annulés parce qu'ils constitueraient des donations déguisées, lorsque les conditions en ont été réglées par un acte authentique. Article 1832-2 Un époux ne peut, sous la sanction prévue à l'article 1427, employer des biens communs pour faire un apport à une société ou acquérir des parts sociales non négociables sans que son conjoint en ait été averti et sans qu'il en soit justifié dans l'acte. La qualité d'associé est reconnue à celui des époux qui fait l'apport ou réalise l'acquisition. La qualité d'associé est également reconnue, pour la moitié des parts souscrites ou acquises, au conjoint qui a notifié à la société son intention d'être personnellement associé. Lorsqu'il notifie son intention lors de [chunk 364]`"
      ],
      "text/plain": [
       "<IPython.core.display.Markdown object>"
      ]
     },
     "metadata": {},
     "output_type": "display_data"
    },
    {
     "data": {
      "text/markdown": [
       "- `codecivil.pdf poursuivre la saisie et la vente des biens indivis. Les créanciers personnels d'un indivisaire ne peuvent saisir sa part dans les biens indivis, meubles ou immeubles. Ils ont toutefois la faculté de provoquer le partage au nom de leur débiteur ou d'intervenir dans le partage provoqué par lui. Les coïndivisaires peuvent arrêter le cours de l'action en partage en acquittant l'obligation au nom et en l'acquit du débiteur. Ceux qui exerceront cette faculté se rembourseront par prélèvement sur les biens indivis. Section 4 : De l'indivision en usufruit. Article 815-18 Les dispositions des articles 815 à 815-17 sont applicables aux indivisions en usufruit en tant qu'elles sont compatibles avec les règles de l'usufruit. Les notifications prévues par les articles 815-14, 815-15 et 815-16 doivent être adressées à tout nu- propriétaire et à tout usufruitier. Mais un usufruitier ne peut acquérir une part en nue-propriété que si aucun nu-propriétaire ne s'en porte acquéreur ; un nu-propriétaire ne peut acquérir une part en usufruit que si aucun usufruitier ne s'en porte acquéreur. Chapitre VIII : Du partage. Code civil - Dernière modification le 14 septembre 2024 - Document généré le 10 février 2025 Section 1 : Des opérations de partage. Sous-section 1 : Dispositions communes. Paragraphe 1 : Des demandes en partage. Article 816 Le partage peut être demandé, même quand l'un des indivisaires a joui séparément de tout ou partie des biens indivis, s'il n'y a pas eu d'acte de partage ou une possession suffisante pour acquérir la prescription. Article 817 Celui qui est en indivision pour la jouissance peut demander le partage de l'usufruit indivis par voie de cantonnement sur un bien ou, en cas d'impossibilité, par voie de licitation de l'usufruit. Lorsqu'elle apparaît seule protectrice de l'intérêt de tous les titulaires de droits sur le bien indivis, la licitation peut porter sur la pleine propriété. Article 818 La même faculté appartient à l'indivisaire en nue-propriété pour la nue-propriété indivise. En cas de licitation de la pleine propriété, le deuxième alinéa de l'article 815-5 est applicable. Article 819 Celui qui est pour partie plein propriétaire et qui se trouve en indivision avec des usufruitiers et des nus- propriétaires peut user des facultés prévues aux articles 817 et 818. Le deuxième alinéa de l'article 815-5 n'est pas applicable en cas de licitation en pleine propriété. Article 820 A la demande d'un indivisaire, le tribunal peut surseoir au partage pour deux années au plus si sa réalisation immédiate risque de porter atteinte à la valeur des biens indivis ou si l'un des indivisaires ne peut reprendre l'entreprise agricole, commerciale, industrielle, artisanale ou libérale dépendant de la succession qu'à Code civil - Dernière modification le 14 septembre 2024 - Document généré le 10 février 2025 l'expiration de ce délai. Ce sursis peut s'appliquer à l'ensemble des biens indivis ou à certains d'entre eux seulement. S'il y a lieu, la demande de sursis au partage peut porter sur des droits sociaux. Article 821 A défaut d'accord amiable, l'indivision de toute entreprise agricole, commerciale, industrielle, [chunk 221]`"
      ],
      "text/plain": [
       "<IPython.core.display.Markdown object>"
      ]
     },
     "metadata": {},
     "output_type": "display_data"
    }
   ],
   "source": [
    "def ask(query):\n",
    "    results = search(query)\n",
    "    context = \"\\n---\\n\".join([f\"{meta['source']} [chunk {meta['chunk']}]:\\n{text}\" for text, meta in results])\n",
    "    prompt = f\"Tu es un assistant juridique. Utilise le contexte ci-dessous pour répondre à la question.\\n\\nContexte:\\n{context}\\n\\nQuestion: {query}\\nRéponse:\"\n",
    "\n",
    "    response = client.chat.completions.create(\n",
    "        model=\"gpt-3.5-turbo\",\n",
    "        messages=[\n",
    "            {\"role\": \"system\", \"content\": \"Tu es un assistant juridique.\"},\n",
    "            {\"role\": \"user\", \"content\": prompt}\n",
    "        ]\n",
    "    )\n",
    "    answer = response.choices[0].message.content\n",
    "\n",
    "    display(Markdown(f\"**Question:** {query}\"))\n",
    "    display(Markdown(f\"**Réponse :**\\n{answer}\"))\n",
    "    display(Markdown(\"**Sources :**\"))\n",
    "    for text, meta in results:\n",
    "        display(Markdown(f\"- `{meta['source']} {text} [chunk {meta['chunk']}]`\"))\n",
    "\n",
    "ask(\"Est-ce que la vente parfaite implique que celui qui s’est déjà engagé ne peut vendre au plus offrant ?\")"
   ]
  },
  {
   "cell_type": "code",
   "execution_count": 111,
   "id": "f0fd44de",
   "metadata": {},
   "outputs": [
    {
     "name": "stdout",
     "output_type": "stream",
     "text": [
      "[1/50] ✅ Question généré.\n",
      "[2/50] ✅ Question généré.\n",
      "[3/50] ✅ Question généré.\n",
      "[4/50] ✅ Question généré.\n",
      "[5/50] ✅ Question généré.\n",
      "[6/50] ✅ Question généré.\n",
      "[7/50] ✅ Question généré.\n",
      "[8/50] ✅ Question généré.\n",
      "[9/50] ✅ Question généré.\n",
      "[10/50] ✅ Question généré.\n",
      "[11/50] ✅ Question généré.\n",
      "[12/50] ✅ Question généré.\n",
      "[13/50] ✅ Question généré.\n",
      "[14/50] ✅ Question généré.\n",
      "[15/50] ✅ Question généré.\n",
      "[16/50] ✅ Question généré.\n",
      "[17/50] ✅ Question généré.\n",
      "[18/50] ✅ Question généré.\n",
      "[19/50] ✅ Question généré.\n",
      "[20/50] ✅ Question généré.\n",
      "[21/50] ✅ Question généré.\n",
      "[22/50] ✅ Question généré.\n",
      "[23/50] ✅ Question généré.\n",
      "[24/50] ✅ Question généré.\n",
      "[25/50] ✅ Question généré.\n",
      "[26/50] ✅ Question généré.\n",
      "[27/50] ✅ Question généré.\n",
      "[28/50] ✅ Question généré.\n",
      "[29/50] ✅ Question généré.\n",
      "[30/50] ✅ Question généré.\n",
      "[31/50] ✅ Question généré.\n",
      "[32/50] ✅ Question généré.\n",
      "[33/50] ✅ Question généré.\n",
      "[34/50] ✅ Question généré.\n",
      "[35/50] ✅ Question généré.\n",
      "[36/50] ✅ Question généré.\n",
      "[37/50] ✅ Question généré.\n",
      "[38/50] ✅ Question généré.\n",
      "[39/50] ✅ Question généré.\n",
      "[40/50] ✅ Question généré.\n",
      "[41/50] ✅ Question généré.\n",
      "[42/50] ✅ Question généré.\n",
      "[43/50] ✅ Question généré.\n",
      "[44/50] ✅ Question généré.\n",
      "[45/50] ✅ Question généré.\n",
      "[46/50] ✅ Question généré.\n",
      "[47/50] ✅ Question généré.\n",
      "[48/50] ✅ Question généré.\n",
      "[49/50] ✅ Question généré.\n",
      "[50/50] ✅ Question généré.\n"
     ]
    }
   ],
   "source": [
    "sampled_chunks = random.sample(chunks, 50)\n",
    "results = []\n",
    "\n",
    "for i, chunk in enumerate(sampled_chunks):\n",
    "    prompt = f\"Génère une question factuelle dont la réponse se trouve dans ce contexte:\\n\\n{chunk}\"\n",
    "\n",
    "    try:\n",
    "        response = client.chat.completions.create(\n",
    "            model=\"gpt-3.5-turbo\",\n",
    "            messages=[\n",
    "                {\"role\": \"user\", \"content\": prompt}\n",
    "            ],\n",
    "            temperature=0.7,\n",
    "            max_tokens=100\n",
    "        )\n",
    "        \n",
    "        question = response.choices[0].message.content.strip()\n",
    "        results.append({\"chunk_id\": i, \"chunk\": chunk, \"question\": question})\n",
    "        \n",
    "        print(f\"[{i+1}/50] ✅ Question généré.\")\n",
    "        time.sleep(0.1)  # Rate limit-friendly\n",
    "\n",
    "    except Exception as e:\n",
    "        print(f\"[{i+1}/50] ❌ Error: {e}\")\n",
    "        results.append({\"chunk_id\": i, \"chunk\": chunk, \"question\": None})\n",
    "        time.sleep(2)\n",
    "\n",
    "df = pd.DataFrame(results)\n",
    "df.to_csv(\"q&a_pair_par_chunk.csv\", index=False)\n"
   ]
  },
  {
   "cell_type": "markdown",
   "id": "7e1628cb",
   "metadata": {},
   "source": [
    "On récupère un CSV contenant les 50 chunks avec pour chaque chunk une question associée. "
   ]
  },
  {
   "cell_type": "code",
   "execution_count": null,
   "id": "573e307a",
   "metadata": {},
   "outputs": [
    {
     "name": "stdout",
     "output_type": "stream",
     "text": [
      "   chunk_id                                              chunk  \\\n",
      "0         0  dans lesquelles il se poursuit. Sous la même r...   \n",
      "1         1  ou par décision unilatérale. La formalité de s...   \n",
      "2         2  et lui payer ses salaires lorsqu'il en a été p...   \n",
      "3         3  non, même avec reconnaissance d'écriture et de...   \n",
      "4         4  chose emporte obligation de la conserver jusqu...   \n",
      "\n",
      "                                            question  \n",
      "0  Quelles sont les conditions pour qu'une transa...  \n",
      "1  Quelles sont les conditions dans lesquelles le...  \n",
      "2  Quelles sont les différentes manières dont le ...  \n",
      "3  Quelles sont les formalités de publicité fonci...  \n",
      "4  Quels sont les effets du contrat à l'égard des...  \n"
     ]
    }
   ],
   "source": [
    "file_path = \"q&a_pair_par_chunk.csv\"\n",
    "df = pd.read_csv(file_path)\n",
    "print(df.head())\n",
    "chunks = df['chunk'].tolist()\n",
    "queries = df['question'].tolist()\n",
    "ground_truth = df['chunk_id'].tolist()\n"
   ]
  },
  {
   "cell_type": "code",
   "execution_count": null,
   "id": "6514bec1",
   "metadata": {},
   "outputs": [],
   "source": [
    "model_names = {\n",
    "    \"MiniLM\": \"sentence-transformers/all-MiniLM-L6-v2\",\n",
    "    \"E5-Base\": \"intfloat/e5-base-v2\",\n",
    "    \"BGE-Base\": \"BAAI/bge-base-en\",\n",
    "    \"Fr-doc\": \"dangvantuan/french-document-embedding\",\n",
    "    \"MPNet\": \"all-mpnet-base-v2\"\n",
    "}\n",
    "def cosine_sim(a, b):\n",
    "    return cosine_similarity(a, b)\n",
    "\n",
    "def dot_sim(a, b):\n",
    "    return np.dot(a, b.T)\n",
    "\n",
    "def inner_sim(a, b):\n",
    "    return linear_kernel(a, b)\n",
    "\n",
    "similarity_functions = {\n",
    "    \"cosine\": cosine_sim,\n",
    "    \"dot\": dot_sim,\n",
    "    \"inner\": inner_sim\n",
    "}\n"
   ]
  },
  {
   "cell_type": "code",
   "execution_count": null,
   "id": "6e82430e",
   "metadata": {},
   "outputs": [
    {
     "name": "stderr",
     "output_type": "stream",
     "text": [
      "c:\\Users\\thoma\\AppData\\Local\\Programs\\Python\\Python313\\Lib\\site-packages\\huggingface_hub\\file_download.py:140: UserWarning: `huggingface_hub` cache-system uses symlinks by default to efficiently store duplicated files but your machine does not support them in C:\\Users\\thoma\\.cache\\huggingface\\hub\\models--sentence-transformers--all-mpnet-base-v2. Caching files will still work but in a degraded version that might require more space on your disk. This warning can be disabled by setting the `HF_HUB_DISABLE_SYMLINKS_WARNING` environment variable. For more details, see https://huggingface.co/docs/huggingface_hub/how-to-cache#limitations.\n",
      "To support symlinks on Windows, you either need to activate Developer Mode or to run Python as an administrator. In order to activate developer mode, see this article: https://docs.microsoft.com/en-us/windows/apps/get-started/enable-your-device-for-development\n",
      "  warnings.warn(message)\n"
     ]
    },
    {
     "name": "stdout",
     "output_type": "stream",
     "text": [
      "   embedding_model similarity  accuracy@5  precision@1     MRR  Avg_Rank\n",
      "0           MiniLM     cosine        70.0         58.0  0.6447      6.58\n",
      "1           MiniLM        dot        70.0         58.0  0.6447      6.58\n",
      "2           MiniLM      inner        70.0         58.0  0.6447      6.58\n",
      "3          E5-Base     cosine        96.0         64.0  0.7668      2.32\n",
      "4          E5-Base        dot        96.0         64.0  0.7668      2.32\n",
      "5          E5-Base      inner        96.0         64.0  0.7668      2.32\n",
      "6         BGE-Base     cosine        80.0         60.0  0.6889      4.72\n",
      "7         BGE-Base        dot        80.0         60.0  0.6889      4.72\n",
      "8         BGE-Base      inner        80.0         60.0  0.6889      4.72\n",
      "9           Fr-doc     cosine        98.0         90.0  0.9415      1.32\n",
      "10          Fr-doc        dot        98.0         90.0  0.9415      1.32\n",
      "11          Fr-doc      inner        98.0         90.0  0.9415      1.32\n",
      "12           MPNet     cosine        82.0         54.0  0.6716      4.80\n",
      "13           MPNet        dot        82.0         54.0  0.6716      4.80\n",
      "14           MPNet      inner        82.0         54.0  0.6716      4.80\n"
     ]
    },
    {
     "data": {
      "image/png": "[encoded data removed]",
      "text/plain": [
       "<Figure size 1000x600 with 1 Axes>"
      ]
     },
     "metadata": {},
     "output_type": "display_data"
    }
   ],
   "source": [
    "results = []\n",
    "\n",
    "for model_label, model_path in model_names.items():\n",
    "    model = SentenceTransformer(model_path,trust_remote_code=True)\n",
    "    chunk_vecs = model.encode(chunks, normalize_embeddings=True)\n",
    "    query_vecs = model.encode(queries, normalize_embeddings=True)\n",
    "\n",
    "    for sim_label, sim_fn in similarity_functions.items():\n",
    "        sim_matrix = sim_fn(query_vecs, chunk_vecs)\n",
    "\n",
    "        k = 5\n",
    "        top_k_hits = []\n",
    "        top1_hits = []\n",
    "        reciprocal_ranks = []\n",
    "        ranks = []\n",
    "\n",
    "        for i, scores in enumerate(sim_matrix):\n",
    "            ranking = np.argsort(scores)[::-1]\n",
    "            top_k_indices = ranking[:k]\n",
    "            correct_idx = ground_truth[i]\n",
    "            top_k_hits.append(correct_idx in top_k_indices)\n",
    "            top1_hits.append(correct_idx == ranking[0])\n",
    "            if correct_idx in ranking:\n",
    "                rank = np.where(ranking == correct_idx)[0][0] + 1\n",
    "                reciprocal_ranks.append(1.0 / rank)\n",
    "                ranks.append(rank)\n",
    "            else:\n",
    "                reciprocal_ranks.append(0.0)\n",
    "                ranks.append(len(ranking) + 1)\n",
    "\n",
    "        results.append({\n",
    "            \"embedding_model\": model_label,\n",
    "            \"similarity\": sim_label,\n",
    "            f\"accuracy@{k}\": round(np.mean(top_k_hits) * 100, 2),\n",
    "            \"precision@1\": round(np.mean(top1_hits) * 100, 2),\n",
    "            \"MRR\": round(np.mean(reciprocal_ranks), 4),\n",
    "            \"Avg_Rank\": round(np.mean(ranks), 2)\n",
    "        })\n",
    "\n",
    "results_df = pd.DataFrame(results)\n",
    "print(results_df)\n",
    "\n",
    "fig, ax = plt.subplots(figsize=(10, 6))\n",
    "x = np.arange(len(results_df))\n",
    "width = 0.2\n",
    "\n",
    "ax.bar(x - 1.5*width, results_df[f\"accuracy@{k}\"], width, label=f'Accuracy@{k}')\n",
    "ax.bar(x - 0.5*width, results_df[\"precision@1\"], width, label='Precision@1')\n",
    "ax.bar(x + 0.5*width, results_df[\"MRR\"] * 100, width, label='MRR (%)')\n",
    "ax.bar(x + 1.5*width, results_df[\"Avg_Rank\"], width, label='Avg Rank')\n",
    "\n",
    "ax.set_xticks(x)\n",
    "ax.set_xticklabels(results_df[\"embedding_model\"] + \" + \" + results_df[\"similarity\"], rotation=45, ha='right')\n",
    "ax.set_ylabel(\"Score\")\n",
    "ax.set_title(\"Retrieval Evaluation Metrics\")\n",
    "ax.legend()\n",
    "plt.tight_layout()\n",
    "plt.show()"
   ]
  },
  {
   "cell_type": "code",
   "execution_count": 3,
   "id": "37a13a4f",
   "metadata": {},
   "outputs": [],
   "source": [
    "def extract_articles_with_plumber(pdf_path):\n",
    "    text = \"\"\n",
    "    with pdfplumber.open(pdf_path) as pdf:\n",
    "        for page in pdf.pages:\n",
    "            text += page.extract_text() + \"\\n\"\n",
    "\n",
    "    parts = re.split(r'(Article\\s\\d+[^\\n]*)', text)\n",
    "    articles = []\n",
    "    for i in range(1, len(parts), 2):\n",
    "        title = parts[i].strip()\n",
    "        content = parts[i + 1].strip()\n",
    "        articles.append({\"title\": title, \"content\": content})\n",
    "    return articles\n",
    "\n",
    "articles = extract_articles_with_plumber(r\"C:\\Users\\thoma\\Documents\\Documents\\Cours ESILV A4 DIA\\S2\\neural network\\Project\\codecivil\\codecivil.pdf\")\n"
   ]
  },
  {
   "cell_type": "code",
   "execution_count": 4,
   "id": "1534ecd1",
   "metadata": {},
   "outputs": [
    {
     "name": "stdout",
     "output_type": "stream",
     "text": [
      "2890\n",
      "{'title': 'Article 30-4', 'content': \"En dehors des cas de perte ou de déchéance de la nationalité française, la preuve de l'extranéité d'un individu\\npeut seulement être établie en démontrant que l'intéressé ne remplit aucune des conditions exigées par la loi\\npour avoir la qualité de Français.\\nCode civil - Dernière modification le 14 septembre 2024 - Document généré le 10 février 2025\\nSection 3 : Des certificats de nationalité française\"}\n"
     ]
    }
   ],
   "source": [
    "print(len(articles))\n",
    "print(articles[137])"
   ]
  },
  {
   "cell_type": "code",
   "execution_count": 5,
   "id": "2994927f",
   "metadata": {},
   "outputs": [],
   "source": [
    "embedder = SentenceTransformer('dangvantuan/french-document-embedding',trust_remote_code=True)  \n",
    "\n",
    "def embed_articles(articles):\n",
    "    texts = [a['content'] for a in articles]\n",
    "    embeddings = embedder.encode(texts, show_progress_bar=True)\n",
    "    return embeddings\n"
   ]
  },
  {
   "cell_type": "code",
   "execution_count": 6,
   "id": "ecd10bf4",
   "metadata": {},
   "outputs": [
    {
     "name": "stderr",
     "output_type": "stream",
     "text": [
      "Batches: 100%|██████████| 91/91 [00:11<00:00,  7.85it/s]\n"
     ]
    }
   ],
   "source": [
    "embeddings = embed_articles(articles)"
   ]
  },
  {
   "cell_type": "code",
   "execution_count": 7,
   "id": "d61e7735",
   "metadata": {},
   "outputs": [],
   "source": [
    "def build_faiss_index(embeddings):\n",
    "    dim = embeddings[0].shape[0]\n",
    "    index = faiss.IndexFlatL2(dim)\n",
    "    index.add(np.array(embeddings))\n",
    "    return index"
   ]
  },
  {
   "cell_type": "code",
   "execution_count": 8,
   "id": "9aac8605",
   "metadata": {},
   "outputs": [],
   "source": [
    "index = build_faiss_index(embeddings)"
   ]
  },
  {
   "cell_type": "code",
   "execution_count": 9,
   "id": "03b2c5c1",
   "metadata": {},
   "outputs": [],
   "source": [
    "def build_graph(articles):\n",
    "    G = nx.DiGraph()\n",
    "    for article in articles:\n",
    "        G.add_node(article['title'], content=article['content'])\n",
    "    for a1 in articles:\n",
    "        for a2 in articles:\n",
    "            if a2['title'] in a1['content']:\n",
    "                G.add_edge(a1['title'], a2['title'])\n",
    "    return G\n"
   ]
  },
  {
   "cell_type": "code",
   "execution_count": 10,
   "id": "a9313291",
   "metadata": {},
   "outputs": [],
   "source": [
    "G = build_graph(articles)"
   ]
  },
  {
   "cell_type": "code",
   "execution_count": 11,
   "id": "553ba758",
   "metadata": {},
   "outputs": [],
   "source": [
    "def evaluate_graph_structure(G):\n",
    "    from collections import Counter\n",
    "\n",
    "    stats = {\n",
    "        \"nodes\": len(G.nodes),\n",
    "        \"edges\": len(G.edges),\n",
    "        \"density\": nx.density(G),\n",
    "        \"is_connected\": nx.is_connected(G.to_undirected()),\n",
    "        \"components\": nx.number_connected_components(G.to_undirected()),\n",
    "        \"relation_distribution\": Counter(nx.get_edge_attributes(G, \"relation\").values())\n",
    "    }\n",
    "    return stats\n"
   ]
  },
  {
   "cell_type": "code",
   "execution_count": 12,
   "id": "9cb71ca6",
   "metadata": {},
   "outputs": [
    {
     "data": {
      "text/plain": [
       "{'nodes': 2890,\n",
       " 'edges': 0,\n",
       " 'density': 0,\n",
       " 'is_connected': False,\n",
       " 'components': 2890,\n",
       " 'relation_distribution': Counter()}"
      ]
     },
     "execution_count": 12,
     "metadata": {},
     "output_type": "execute_result"
    }
   ],
   "source": [
    "evaluate_graph_structure(G)"
   ]
  },
  {
   "cell_type": "markdown",
   "id": "07013958",
   "metadata": {},
   "source": [
    "### Ajout des cross references entre articles"
   ]
  },
  {
   "cell_type": "code",
   "execution_count": 13,
   "id": "73acaaca",
   "metadata": {},
   "outputs": [],
   "source": [
    "def enrich_with_cross_references(G, articles):\n",
    "    article_titles = [a[\"title\"] for a in articles]\n",
    "    \n",
    "    for a in articles:\n",
    "        source = a[\"title\"]\n",
    "        for title in article_titles:\n",
    "            if title == source:\n",
    "                continue\n",
    "            pattern = r\"\\b\" + re.escape(title) + r\"\\b\"\n",
    "            if re.search(pattern, a[\"content\"], flags=re.IGNORECASE):\n",
    "                G.add_edge(source, title, relation=\"cite\")\n",
    "\n",
    "\n",
    "enrich_with_cross_references(G,articles)"
   ]
  },
  {
   "cell_type": "code",
   "execution_count": 14,
   "id": "597526ee",
   "metadata": {},
   "outputs": [
    {
     "data": {
      "text/plain": [
       "{'nodes': 2890,\n",
       " 'edges': 746,\n",
       " 'density': 8.934977081664013e-05,\n",
       " 'is_connected': False,\n",
       " 'components': 2282,\n",
       " 'relation_distribution': Counter({'cite': 746})}"
      ]
     },
     "execution_count": 14,
     "metadata": {},
     "output_type": "execute_result"
    }
   ],
   "source": [
    "evaluate_graph_structure(G)"
   ]
  },
  {
   "cell_type": "markdown",
   "id": "e4d45022",
   "metadata": {},
   "source": [
    "### Ajouter des super-nœuds pour les structures légales : Livre, Titre, Chapitre, et relier les articles."
   ]
  },
  {
   "cell_type": "code",
   "execution_count": 15,
   "id": "f57bd3c7",
   "metadata": {},
   "outputs": [],
   "source": [
    "def add_structure_nodes(G, articles):\n",
    "    for art in articles:\n",
    "        structure = re.findall(r\"Livre [IVX]+|Titre [\\w\\s]+|Chapitre [\\w\\d]+\", art['content'])\n",
    "        for node in structure:\n",
    "            if not G.has_node(node):\n",
    "                G.add_node(node, type=\"structure\")\n",
    "            G.add_edge(node, art['title'], relation=\"contient\")\n",
    "            \n",
    "add_structure_nodes(G,articles)"
   ]
  },
  {
   "cell_type": "code",
   "execution_count": 16,
   "id": "3e419c70",
   "metadata": {},
   "outputs": [
    {
     "data": {
      "text/plain": [
       "{'nodes': 2929,\n",
       " 'edges': 1008,\n",
       " 'density': 0.00011753577845065456,\n",
       " 'is_connected': False,\n",
       " 'components': 2115,\n",
       " 'relation_distribution': Counter({'cite': 746, 'contient': 262})}"
      ]
     },
     "execution_count": 16,
     "metadata": {},
     "output_type": "execute_result"
    }
   ],
   "source": [
    "evaluate_graph_structure(G)"
   ]
  },
  {
   "cell_type": "markdown",
   "id": "c7f72adf",
   "metadata": {},
   "source": [
    "### Relier les articles sémantiquement proches (ex. deux articles sur les droits de la personne)."
   ]
  },
  {
   "cell_type": "code",
   "execution_count": 17,
   "id": "a32091f1",
   "metadata": {},
   "outputs": [],
   "source": [
    "def enrich_with_semantic_similarity(G, articles, embeddings, threshold=0.82):\n",
    "    sim_matrix = cosine_similarity(embeddings)\n",
    "    for i in range(len(articles)):\n",
    "        for j in range(i+1, len(articles)):\n",
    "            if sim_matrix[i][j] >= threshold:\n",
    "                G.add_edge(articles[i][\"title\"], articles[j][\"title\"], relation=\"similaire\", weight=sim_matrix[i][j])\n",
    "\n",
    "enrich_with_semantic_similarity(G,articles,embeddings)"
   ]
  },
  {
   "cell_type": "code",
   "execution_count": 18,
   "id": "fb3416fb",
   "metadata": {},
   "outputs": [
    {
     "data": {
      "text/plain": [
       "{'nodes': 2929,\n",
       " 'edges': 9000,\n",
       " 'density': 0.0010494265933094157,\n",
       " 'is_connected': False,\n",
       " 'components': 519,\n",
       " 'relation_distribution': Counter({'similaire': 8042,\n",
       "          'cite': 696,\n",
       "          'contient': 262})}"
      ]
     },
     "execution_count": 18,
     "metadata": {},
     "output_type": "execute_result"
    }
   ],
   "source": [
    "evaluate_graph_structure(G)"
   ]
  },
  {
   "cell_type": "code",
   "execution_count": 19,
   "id": "7ec82a13",
   "metadata": {},
   "outputs": [],
   "source": [
    "def retrieve_similar(query, embedder, index, articles, k=5):\n",
    "    query_vec = embedder.encode([query])\n",
    "    D, I = index.search(np.array(query_vec), k)\n",
    "    return [articles[i] for i in I[0]]\n"
   ]
  },
  {
   "cell_type": "code",
   "execution_count": 20,
   "id": "c641e0da",
   "metadata": {},
   "outputs": [],
   "source": [
    "relevant_docs = retrieve_similar(\"Qu’est-ce qu’un contrat synallagmatique ?\", embedder, index, articles)\n"
   ]
  },
  {
   "cell_type": "code",
   "execution_count": 21,
   "id": "937c396e",
   "metadata": {},
   "outputs": [
    {
     "name": "stdout",
     "output_type": "stream",
     "text": [
      "[{'title': 'Article 1106', 'content': \"Le contrat est synallagmatique lorsque les contractants s'obligent réciproquement les uns envers les autres.\\nIl est unilatéral lorsqu'une ou plusieurs personnes s'obligent envers une ou plusieurs autres sans qu'il y ait\\nd'engagement réciproque de celles-ci.\"}, {'title': 'Article 1168', 'content': \"Dans les contrats synallagmatiques, le défaut d'équivalence des prestations n'est pas une cause de nullité du\\ncontrat, à moins que la loi n'en dispose autrement.\"}, {'title': 'Article 1375', 'content': \"L'acte sous signature privée qui constate un contrat synallagmatique ne fait preuve que s'il a été fait en\\nautant d'originaux qu'il y a de parties ayant un intérêt distinct, à moins que les parties ne soient convenues de\\nremettre à un tiers l'unique exemplaire dressé.\\nChaque original doit mentionner le nombre des originaux qui en ont été faits.\\nCelui qui a exécuté le contrat, même partiellement, ne peut opposer le défaut de la pluralité d'originaux ou de\\nla mention de leur nombre.\\nL'exigence d'une pluralité d'originaux est réputée satisfaite pour les contrats sous forme électronique lorsque\\nl'acte est établi et conservé conformément aux articles 1366 et 1367, et que le procédé permet à chaque partie\\nde disposer d'un exemplaire sur support durable ou d'y avoir accès.\"}, {'title': 'Article 1109', 'content': \"Le contrat est consensuel lorsqu'il se forme par le seul échange des consentements quel qu'en soit le mode\\nd'expression.\\nLe contrat est solennel lorsque sa validité est subordonnée à des formes déterminées par la loi.\\nLe contrat est réel lorsque sa formation est subordonnée à la remise d'une chose.\"}, {'title': 'Article 1172', 'content': \"Les contrats sont par principe consensuels.\\nPar exception, la validité des contrats solennels est subordonnée à l'observation de formes déterminées par la\\nloi à défaut de laquelle le contrat est nul, sauf possible régularisation.\\nEn outre, la loi subordonne la formation de certains contrats à la remise d'une chose.\"}]\n"
     ]
    }
   ],
   "source": [
    "print(relevant_docs)"
   ]
  },
  {
   "cell_type": "code",
   "execution_count": null,
   "id": "e192a949",
   "metadata": {},
   "outputs": [],
   "source": [
    "def generate_answer(question, retrieved_docs):\n",
    "    context = \"\\n\\n\".join([f\"{doc['title']}: {doc['content']}\" for doc in retrieved_docs])\n",
    "    prompt = f\"Réponds à la question suivante selon les extraits de code civil :\\n\\n{context}\\n\\nQuestion: {question}\\nRéponse:\"\n",
    "    \n",
    "    response = client.chat.completions.create(\n",
    "        model=\"gpt-3.5-turbo\",\n",
    "        messages=[\n",
    "            {\"role\": \"system\", \"content\": \"Tu es un assistant juridique.\"},\n",
    "            {\"role\": \"user\", \"content\": prompt}\n",
    "        ]\n",
    "    )\n",
    "    answer = response.choices[0].message.content\n",
    "\n",
    "    display(Markdown(f\"**Question:** {question}\"))\n",
    "    display(Markdown(f\"**Réponse :**\\n{answer}\"))\n",
    "    display(Markdown(\"**Sources:**\"))\n",
    "    for doc in retrieved_docs:\n",
    "        display(Markdown(f\"{doc['title']}: {doc['content']}\"))\n",
    "    return answer\n"
   ]
  },
  {
   "cell_type": "code",
   "execution_count": 23,
   "id": "3041784a",
   "metadata": {},
   "outputs": [
    {
     "data": {
      "text/markdown": [
       "**Question:** Qu’est-ce qu’un contrat synallagmatique ?"
      ],
      "text/plain": [
       "<IPython.core.display.Markdown object>"
      ]
     },
     "metadata": {},
     "output_type": "display_data"
    },
    {
     "data": {
      "text/markdown": [
       "**Réponse :**\n",
       "Un contrat synallagmatique est un contrat dans lequel les contractants s'obligent réciproquement les uns envers les autres. Cela signifie qu'il y a des engagements mutuels entre les parties qui doivent être respectés pour que le contrat soit valide."
      ],
      "text/plain": [
       "<IPython.core.display.Markdown object>"
      ]
     },
     "metadata": {},
     "output_type": "display_data"
    },
    {
     "data": {
      "text/markdown": [
       "**Sources:**"
      ],
      "text/plain": [
       "<IPython.core.display.Markdown object>"
      ]
     },
     "metadata": {},
     "output_type": "display_data"
    },
    {
     "data": {
      "text/markdown": [
       "Article 1106: Le contrat est synallagmatique lorsque les contractants s'obligent réciproquement les uns envers les autres.\n",
       "Il est unilatéral lorsqu'une ou plusieurs personnes s'obligent envers une ou plusieurs autres sans qu'il y ait\n",
       "d'engagement réciproque de celles-ci."
      ],
      "text/plain": [
       "<IPython.core.display.Markdown object>"
      ]
     },
     "metadata": {},
     "output_type": "display_data"
    },
    {
     "data": {
      "text/markdown": [
       "Article 1168: Dans les contrats synallagmatiques, le défaut d'équivalence des prestations n'est pas une cause de nullité du\n",
       "contrat, à moins que la loi n'en dispose autrement."
      ],
      "text/plain": [
       "<IPython.core.display.Markdown object>"
      ]
     },
     "metadata": {},
     "output_type": "display_data"
    },
    {
     "data": {
      "text/markdown": [
       "Article 1375: L'acte sous signature privée qui constate un contrat synallagmatique ne fait preuve que s'il a été fait en\n",
       "autant d'originaux qu'il y a de parties ayant un intérêt distinct, à moins que les parties ne soient convenues de\n",
       "remettre à un tiers l'unique exemplaire dressé.\n",
       "Chaque original doit mentionner le nombre des originaux qui en ont été faits.\n",
       "Celui qui a exécuté le contrat, même partiellement, ne peut opposer le défaut de la pluralité d'originaux ou de\n",
       "la mention de leur nombre.\n",
       "L'exigence d'une pluralité d'originaux est réputée satisfaite pour les contrats sous forme électronique lorsque\n",
       "l'acte est établi et conservé conformément aux articles 1366 et 1367, et que le procédé permet à chaque partie\n",
       "de disposer d'un exemplaire sur support durable ou d'y avoir accès."
      ],
      "text/plain": [
       "<IPython.core.display.Markdown object>"
      ]
     },
     "metadata": {},
     "output_type": "display_data"
    },
    {
     "data": {
      "text/markdown": [
       "Article 1109: Le contrat est consensuel lorsqu'il se forme par le seul échange des consentements quel qu'en soit le mode\n",
       "d'expression.\n",
       "Le contrat est solennel lorsque sa validité est subordonnée à des formes déterminées par la loi.\n",
       "Le contrat est réel lorsque sa formation est subordonnée à la remise d'une chose."
      ],
      "text/plain": [
       "<IPython.core.display.Markdown object>"
      ]
     },
     "metadata": {},
     "output_type": "display_data"
    },
    {
     "data": {
      "text/markdown": [
       "Article 1172: Les contrats sont par principe consensuels.\n",
       "Par exception, la validité des contrats solennels est subordonnée à l'observation de formes déterminées par la\n",
       "loi à défaut de laquelle le contrat est nul, sauf possible régularisation.\n",
       "En outre, la loi subordonne la formation de certains contrats à la remise d'une chose."
      ],
      "text/plain": [
       "<IPython.core.display.Markdown object>"
      ]
     },
     "metadata": {},
     "output_type": "display_data"
    }
   ],
   "source": [
    "response = generate_answer(\"Qu’est-ce qu’un contrat synallagmatique ?\", relevant_docs)\n",
    "\n"
   ]
  },
  {
   "cell_type": "code",
   "execution_count": null,
   "id": "8e028465",
   "metadata": {},
   "outputs": [],
   "source": [
    "def get_subgraph_for_article(G, article_title, depth=1):\n",
    "    visited = set([article_title])\n",
    "    frontier = set([article_title])\n",
    "\n",
    "    for _ in range(depth):\n",
    "        next_frontier = set()\n",
    "        for node in frontier:\n",
    "            next_frontier.update(G.successors(node))     \n",
    "            next_frontier.update(G.predecessors(node))    \n",
    "        frontier = next_frontier - visited\n",
    "        visited.update(frontier)\n",
    "\n",
    "    subG = G.subgraph(visited).copy()\n",
    "    return subG\n"
   ]
  },
  {
   "cell_type": "code",
   "execution_count": 25,
   "id": "c119433e",
   "metadata": {},
   "outputs": [],
   "source": [
    "def visualize_article_graph(G, article_title, depth=1):\n",
    "    subG = get_subgraph_for_article(G, article_title, depth=depth)\n",
    "\n",
    "    pos = nx.spring_layout(subG, seed=42)\n",
    "    plt.figure(figsize=(10, 7))\n",
    "    \n",
    "    edge_labels = nx.get_edge_attributes(subG, 'relation')\n",
    "    node_colors = ['red' if n == article_title else 'skyblue' for n in subG.nodes]\n",
    "    \n",
    "    nx.draw(subG, pos, with_labels=True, node_color=node_colors, node_size=1500, font_size=10, arrows=True)\n",
    "    nx.draw_networkx_edge_labels(subG, pos, edge_labels=edge_labels, font_color='gray')\n",
    "\n",
    "    plt.title(f\"Graphe centré sur {article_title}\")\n",
    "    plt.show()\n"
   ]
  },
  {
   "cell_type": "code",
   "execution_count": 27,
   "id": "d2c03269",
   "metadata": {},
   "outputs": [
    {
     "data": {
      "image/png": "[encoded data removed]",
      "text/plain": [
       "<Figure size 1000x700 with 1 Axes>"
      ]
     },
     "metadata": {},
     "output_type": "display_data"
    }
   ],
   "source": [
    "visualize_article_graph(G, \"Article 784\", depth=2)\n"
   ]
  }
 ],
 "metadata": {
  "kernelspec": {
   "display_name": "Python 3",
   "language": "python",
   "name": "python3"
  },
  "language_info": {
   "codemirror_mode": {
    "name": "ipython",
    "version": 3
   },
   "file_extension": ".py",
   "mimetype": "text/x-python",
   "name": "python",
   "nbconvert_exporter": "python",
   "pygments_lexer": "ipython3",
   "version": "3.13.2"
  }
 },
 "nbformat": 4,
 "nbformat_minor": 5
}
